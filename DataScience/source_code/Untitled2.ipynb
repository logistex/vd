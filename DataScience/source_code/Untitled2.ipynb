{
 "cells": [
  {
   "cell_type": "code",
   "execution_count": 2,
   "metadata": {},
   "outputs": [
    {
     "name": "stdout",
     "output_type": "stream",
     "text": [
      "여러분 반가워요!\n"
     ]
    }
   ],
   "source": [
    "print('여러분 반가워요!')"
   ]
  },
  {
   "cell_type": "code",
   "execution_count": 5,
   "metadata": {},
   "outputs": [],
   "source": [
    "import time\n",
    "time.sleep(3)"
   ]
  },
  {
   "cell_type": "code",
   "execution_count": 6,
   "metadata": {},
   "outputs": [
    {
     "name": "stdout",
     "output_type": "stream",
     "text": [
      "시작\n",
      "3 초가 지났어요\n"
     ]
    }
   ],
   "source": [
    "print('시작')\n",
    "import time\n",
    "time.sleep(3)\n",
    "print('3 초가 지났어요')"
   ]
  },
  {
   "cell_type": "code",
   "execution_count": 13,
   "metadata": {},
   "outputs": [
    {
     "data": {
      "text/plain": [
       "'반가워요, 김학생님!'"
      ]
     },
     "execution_count": 13,
     "metadata": {},
     "output_type": "execute_result"
    }
   ],
   "source": [
    "def say_hello(참석자):\n",
    "    return '반가워요, {}님!'.format(참석자)\n",
    "\n",
    "say_hello('김학생')"
   ]
  },
  {
   "cell_type": "markdown",
   "metadata": {},
   "source": [
    "# 수준 1 제목\n",
    "## 수준 2 제목\n",
    "일반적인 본문입니다. \n",
    "강조하고 싶은 부분은 **이렇게** 강조할 수 있어요.\n",
    "이탤릭체를 쓰고 싶으면 *요렇게* 할 수 있고요. \n",
    "\n",
    "문단을 나누려면 빈 줄을 넣어요.\n",
    "리스트를 만들고 싶으면 다음과 같이 작성해요.\n",
    "- 항목 1\n",
    "- 항목 2\n",
    "    - 항목 2-1\n",
    "    - 항목 2-2\n",
    "\n",
    "이렇게 번호붙인 리스트도 만들 수 있어요\n",
    "1. 사과\n",
    "2. 배\n",
    "3. 수박\n",
    "\n",
    "웹 문서에 대한 링크는 [여기](https://www.dataquest.io/blog/jupyter-notebook-tutorial/)를 확인하세요.\n",
    "\n",
    "그림도 넣을 수 있어요.\n",
    "![쥬피터 로고](https://www.dataquest.io/wp-content/uploads/2019/01/1-LPnY8nOLg4S6_TG0DEXwsg-1.png)\n",
    "\n",
    "\n",
    "그냥 소스 코드\n",
    "```\n",
    "def say_hello(참석자):\n",
    "    return '반가워요, {}님!'.format(참석자)\n",
    "\n",
    "say_hello('김학생')\n",
    "```\n",
    "\n",
    "파이썬 문법에 맞추어 포매팅한 소스 코드\n",
    "```PYTHON\n",
    "def say_hello(참석자):\n",
    "    return '반가워요, {}님!'.format(참석자)\n",
    "\n",
    "say_hello('김학생')\n",
    "```\n",
    "\n",
    "행 번호를 표시하는 방식은 작동하지 않는군요.\n",
    "```PYTHON {.line-numbers}\n",
    "def say_hello(참석자):\n",
    "    return '반가워요, {}님!'.format(참석자)\n",
    "\n",
    "say_hello('김학생')\n",
    "```\n",
    "\n",
    "---\n",
    "\n",
    "커널이 뭘까요?\n",
    "- 모든 노트북은 배후에서 커널(Kernel)을 가동시키고 있음\n",
    "- 코드 셀을 실행시키면, 해당 커널에서 수행되고 결과가 출력됨\n",
    "- 커널의 상태는 (단일 문서의 전체 범위에서) 실행 시점 순서대로 유지됨\n"
   ]
  },
  {
   "cell_type": "code",
   "execution_count": 30,
   "metadata": {},
   "outputs": [],
   "source": [
    "# 난수 발생을 위해 numpy를 임포트하고, np로 부르겠다고 선언\n",
    "import numpy as np\n",
    "\n",
    "# 제곱 함수를 정의\n",
    "def square(x):\n",
    "    return x * x"
   ]
  },
  {
   "cell_type": "code",
   "execution_count": 31,
   "metadata": {},
   "outputs": [
    {
     "name": "stdout",
     "output_type": "stream",
     "text": [
      "6 제곱은 36입니다.\n"
     ]
    }
   ],
   "source": [
    "# 1~10 범위의 정수를 난수로 생성하여 x에 저장\n",
    "x = np.random.randint(1, 10)\n",
    "# x 제곱을 y에 저장\n",
    "y = square(x)\n",
    "# x와 y를 출력\n",
    "print('%d 제곱은 %d입니다.' % (x, y))"
   ]
  },
  {
   "cell_type": "code",
   "execution_count": 34,
   "metadata": {},
   "outputs": [
    {
     "name": "stdout",
     "output_type": "stream",
     "text": [
      "6 제곱은 10인가요?\n"
     ]
    }
   ],
   "source": [
    "# x와 y를 다시 출력\n",
    "print('%d 제곱은 %d인가요?' % (x, y))"
   ]
  },
  {
   "cell_type": "code",
   "execution_count": 33,
   "metadata": {},
   "outputs": [],
   "source": [
    "# 아래쪽 셀에서 y값을 변경하고, 위쪽 셀을 다시 실행해 보면?\n",
    "y = 10"
   ]
  },
  {
   "cell_type": "markdown",
   "metadata": {},
   "source": [
    "- 정상적이라면 위에서부터 차례로 실행되지만, \n",
    "- 개별적으로 셀을 실행하면, **(셀 위치와 무관하게) 이전에 실행된 모든 셀의 영향을 받음**"
   ]
  }
 ],
 "metadata": {
  "kernelspec": {
   "display_name": "Python 3",
   "language": "python",
   "name": "python3"
  },
  "language_info": {
   "codemirror_mode": {
    "name": "ipython",
    "version": 3
   },
   "file_extension": ".py",
   "mimetype": "text/x-python",
   "name": "python",
   "nbconvert_exporter": "python",
   "pygments_lexer": "ipython3",
   "version": "3.8.1"
  }
 },
 "nbformat": 4,
 "nbformat_minor": 4
}
